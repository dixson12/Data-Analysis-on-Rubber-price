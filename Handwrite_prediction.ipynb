{
  "nbformat": 4,
  "nbformat_minor": 0,
  "metadata": {
    "colab": {
      "provenance": [],
      "authorship_tag": "ABX9TyOfwmbEeYxrl2wI4kTC6Ro3",
      "include_colab_link": true
    },
    "kernelspec": {
      "name": "python3",
      "display_name": "Python 3"
    },
    "language_info": {
      "name": "python"
    }
  },
  "cells": [
    {
      "cell_type": "markdown",
      "metadata": {
        "id": "view-in-github",
        "colab_type": "text"
      },
      "source": [
        "<a href=\"https://colab.research.google.com/github/dixson12/Data-Analysis-on-Rubber-price/blob/main/Handwrite_prediction.ipynb\" target=\"_parent\"><img src=\"https://colab.research.google.com/assets/colab-badge.svg\" alt=\"Open In Colab\"/></a>"
      ]
    },
    {
      "cell_type": "markdown",
      "source": [
        "# **Handwrite prediction model**"
      ],
      "metadata": {
        "id": "ATEeEGwi5zJC"
      }
    },
    {
      "cell_type": "markdown",
      "source": [
        "**Importing the relevant Libraries**"
      ],
      "metadata": {
        "id": "myoXEKC56CRi"
      }
    },
    {
      "cell_type": "code",
      "execution_count": 35,
      "metadata": {
        "id": "rFZl7z4vjUiS"
      },
      "outputs": [],
      "source": [
        "import numpy as np\n",
        "import matplotlib.pyplot as plt\n",
        "import pandas as pd\n",
        "from sklearn.neighbors import KNeighborsClassifier\n",
        "from sklearn.model_selection import train_test_split\n",
        "from sklearn.metrics import accuracy_score\n"
      ]
    },
    {
      "cell_type": "markdown",
      "source": [
        "**Load arrays or pickled objects from ``.npy``, ``.npz`` or pickled files.**"
      ],
      "metadata": {
        "id": "2QX2hqjs6fLe"
      }
    },
    {
      "cell_type": "code",
      "source": [
        "data=np.load('/content/mnist_train_small.npy')\n",
        "data\n",
        "\n"
      ],
      "metadata": {
        "id": "G2uKsUTtqp4f"
      },
      "execution_count": 42,
      "outputs": []
    },
    {
      "cell_type": "markdown",
      "source": [
        "**Data Inspection**"
      ],
      "metadata": {
        "id": "iNknljZ16qSL"
      }
    },
    {
      "cell_type": "code",
      "source": [
        "data.shape"
      ],
      "metadata": {
        "colab": {
          "base_uri": "https://localhost:8080/"
        },
        "id": "aIummvl_6kBK",
        "outputId": "a4ff5aab-1797-4415-b6d3-cb8212270caa"
      },
      "execution_count": 43,
      "outputs": [
        {
          "output_type": "execute_result",
          "data": {
            "text/plain": [
              "(19999, 785)"
            ]
          },
          "metadata": {},
          "execution_count": 43
        }
      ]
    },
    {
      "cell_type": "markdown",
      "source": [
        "**Data Slicing**"
      ],
      "metadata": {
        "id": "oziHTQPx7cc-"
      }
    },
    {
      "cell_type": "code",
      "source": [
        "X=data[:,1:]\n",
        "y=data[:,0]\n",
        "plt.imshow(X[10].reshape(28,28),cmap='gray')"
      ],
      "metadata": {
        "colab": {
          "base_uri": "https://localhost:8080/",
          "height": 282
        },
        "id": "hOu49Ekrw93w",
        "outputId": "ccc7c36a-a322-49ea-ee82-0d4fe12aa701"
      },
      "execution_count": 37,
      "outputs": [
        {
          "output_type": "execute_result",
          "data": {
            "text/plain": [
              "<matplotlib.image.AxesImage at 0x7fb5f1195ee0>"
            ]
          },
          "metadata": {},
          "execution_count": 37
        },
        {
          "output_type": "display_data",
          "data": {
            "text/plain": [
              "<Figure size 432x288 with 1 Axes>"
            ],
            "image/png": "[encoded data removed]"
          },
          "metadata": {
            "needs_background": "light"
          }
        }
      ]
    },
    {
      "cell_type": "markdown",
      "source": [
        "**Train Test Split**"
      ],
      "metadata": {
        "id": "lPjzu4cv7lQK"
      }
    },
    {
      "cell_type": "code",
      "source": [
        "\n",
        "X_train,X_test,y_train,y_test=train_test_split(X,y,test_size=0.3,random_state=12)\n"
      ],
      "metadata": {
        "id": "WcIAk_qYyWDK"
      },
      "execution_count": 38,
      "outputs": []
    },
    {
      "cell_type": "markdown",
      "source": [
        "**Using KNN training the data and predicting the data**"
      ],
      "metadata": {
        "id": "PHSIfBgN7vpf"
      }
    },
    {
      "cell_type": "code",
      "source": [
        "\n",
        "knn=KNeighborsClassifier()\n",
        "knn.fit(X_train,y_train)\n",
        "y_pred=knn.predict(X_test[:10])\n",
        "y_pred\n",
        "plt.imshow(X_train[2].reshape(28,28))\n"
      ],
      "metadata": {
        "colab": {
          "base_uri": "https://localhost:8080/",
          "height": 282
        },
        "id": "QGc8qfejywMx",
        "outputId": "51120082-2220-4dcb-c998-b7fb222d6133"
      },
      "execution_count": 39,
      "outputs": [
        {
          "output_type": "execute_result",
          "data": {
            "text/plain": [
              "<matplotlib.image.AxesImage at 0x7fb5f1151a90>"
            ]
          },
          "metadata": {},
          "execution_count": 39
        },
        {
          "output_type": "display_data",
          "data": {
            "text/plain": [
              "<Figure size 432x288 with 1 Axes>"
            ],
            "image/png": "[encoded data removed]"
          },
          "metadata": {
            "needs_background": "light"
          }
        }
      ]
    },
    {
      "cell_type": "markdown",
      "source": [
        "**Calculating the accuracy and testing the predicted value with actual value**"
      ],
      "metadata": {
        "id": "QRyDHuYB77YD"
      }
    },
    {
      "cell_type": "code",
      "source": [
        "\n",
        "print(accuracy_score(y_test[:10],y_pred)*100,'%')\n",
        "y_test[:10]\n",
        "plt.imshow(X_test[2].reshape(28,28))"
      ],
      "metadata": {
        "colab": {
          "base_uri": "https://localhost:8080/",
          "height": 300
        },
        "id": "9VDOAB3Bzvua",
        "outputId": "969cc902-762c-4cf8-f907-60cfd75b8634"
      },
      "execution_count": 40,
      "outputs": [
        {
          "output_type": "stream",
          "name": "stdout",
          "text": [
            "100.0 %\n"
          ]
        },
        {
          "output_type": "execute_result",
          "data": {
            "text/plain": [
              "<matplotlib.image.AxesImage at 0x7fb5f10f2af0>"
            ]
          },
          "metadata": {},
          "execution_count": 40
        },
        {
          "output_type": "display_data",
          "data": {
            "text/plain": [
              "<Figure size 432x288 with 1 Axes>"
            ],
            "image/png": "[encoded data removed]"
          },
          "metadata": {
            "needs_background": "light"
          }
        }
      ]
    },
    {
      "cell_type": "code",
      "source": [
        "y_pred[2]\n",
        "#Hence it is working"
      ],
      "metadata": {
        "colab": {
          "base_uri": "https://localhost:8080/"
        },
        "id": "BdLdzQj13cbm",
        "outputId": "b026ed7e-ac9e-4b9b-d58b-85b549b3217f"
      },
      "execution_count": 41,
      "outputs": [
        {
          "output_type": "execute_result",
          "data": {
            "text/plain": [
              "9"
            ]
          },
          "metadata": {},
          "execution_count": 41
        }
      ]
    }
  ]
}